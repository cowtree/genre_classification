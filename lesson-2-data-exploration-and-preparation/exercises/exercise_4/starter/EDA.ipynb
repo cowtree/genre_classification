{
 "cells": [
  {
   "cell_type": "code",
   "execution_count": 7,
   "metadata": {},
   "outputs": [],
   "source": [
    "import seaborn as sb\n",
    "import matplotlib.pyplot as plt\n",
    "import pandas as pd\n",
    "import numpy as np\n",
    "import os\n",
    "import sys\n",
    "#from pandas_profiling import ProfileReport\n",
    "import wandb"
   ]
  },
  {
   "cell_type": "code",
   "execution_count": 8,
   "metadata": {},
   "outputs": [
    {
     "name": "stderr",
     "output_type": "stream",
     "text": [
      "Failed to detect the name of this notebook, you can set it manually with the WANDB_NOTEBOOK_NAME environment variable to enable code saving.\n",
      "\u001b[34m\u001b[1mwandb\u001b[0m: You can find your API key in your browser here: http://localhost:8080/authorize\n",
      "\u001b[34m\u001b[1mwandb\u001b[0m: Appending key for localhost to your netrc file: /Users/caotri/.netrc\n",
      "\u001b[34m\u001b[1mwandb\u001b[0m: \u001b[32m\u001b[41mERROR\u001b[0m Unable to read ~/.netrc\n",
      "Traceback (most recent call last):\n",
      "  File \"/opt/miniconda3/envs/mlflow-51a201f2a8eac0601d78afdf58767b0a4aa0f41a/lib/python3.9/site-packages/wandb/sdk/wandb_init.py\", line 740, in init\n",
      "    wi.setup(kwargs)\n",
      "  File \"/opt/miniconda3/envs/mlflow-51a201f2a8eac0601d78afdf58767b0a4aa0f41a/lib/python3.9/site-packages/wandb/sdk/wandb_init.py\", line 175, in setup\n",
      "    self._log_setup(settings)\n",
      "  File \"/opt/miniconda3/envs/mlflow-51a201f2a8eac0601d78afdf58767b0a4aa0f41a/lib/python3.9/site-packages/wandb/sdk/wandb_init.py\", line 304, in _log_setup\n",
      "    filesystem._safe_makedirs(os.path.dirname(settings.log_user))\n",
      "  File \"/opt/miniconda3/envs/mlflow-51a201f2a8eac0601d78afdf58767b0a4aa0f41a/lib/python3.9/site-packages/wandb/sdk/lib/filesystem.py\", line 8, in _safe_makedirs\n",
      "    os.makedirs(dir_name)\n",
      "  File \"/opt/miniconda3/envs/mlflow-51a201f2a8eac0601d78afdf58767b0a4aa0f41a/lib/python3.9/os.py\", line 215, in makedirs\n",
      "    makedirs(head, exist_ok=exist_ok)\n",
      "  File \"/opt/miniconda3/envs/mlflow-51a201f2a8eac0601d78afdf58767b0a4aa0f41a/lib/python3.9/os.py\", line 225, in makedirs\n",
      "    mkdir(name, mode)\n",
      "PermissionError: [Errno 13] Permission denied: '/Users/caotri/Documents/EducationPlatform/mldeveops-nanodegree/Project2/cd0581-building-a-reproducible-model-workflow-exercises/lesson-2-data-exploration-and-preparation/exercises/exercise_4/starter/wandb/run-20220821_113012-1wu2lpe8'\n",
      "\u001b[34m\u001b[1mwandb\u001b[0m: \u001b[32m\u001b[41mERROR\u001b[0m Abnormal program exit\n"
     ]
    },
    {
     "ename": "Exception",
     "evalue": "problem",
     "output_type": "error",
     "traceback": [
      "\u001b[0;31m---------------------------------------------------------------------------\u001b[0m",
      "\u001b[0;31mPermissionError\u001b[0m                           Traceback (most recent call last)",
      "File \u001b[0;32m/opt/miniconda3/envs/mlflow-51a201f2a8eac0601d78afdf58767b0a4aa0f41a/lib/python3.9/site-packages/wandb/sdk/wandb_init.py:740\u001b[0m, in \u001b[0;36minit\u001b[0;34m(job_type, dir, config, project, entity, reinit, tags, group, name, notes, magic, config_exclude_keys, config_include_keys, anonymous, mode, allow_val_change, resume, force, tensorboard, sync_tensorboard, monitor_gym, save_code, id, settings)\u001b[0m\n\u001b[1;32m    739\u001b[0m wi \u001b[39m=\u001b[39m _WandbInit()\n\u001b[0;32m--> 740\u001b[0m wi\u001b[39m.\u001b[39;49msetup(kwargs)\n\u001b[1;32m    741\u001b[0m except_exit \u001b[39m=\u001b[39m wi\u001b[39m.\u001b[39msettings\u001b[39m.\u001b[39m_except_exit\n",
      "File \u001b[0;32m/opt/miniconda3/envs/mlflow-51a201f2a8eac0601d78afdf58767b0a4aa0f41a/lib/python3.9/site-packages/wandb/sdk/wandb_init.py:175\u001b[0m, in \u001b[0;36m_WandbInit.setup\u001b[0;34m(self, kwargs)\u001b[0m\n\u001b[1;32m    173\u001b[0m settings\u001b[39m.\u001b[39mupdate(d)\n\u001b[0;32m--> 175\u001b[0m \u001b[39mself\u001b[39;49m\u001b[39m.\u001b[39;49m_log_setup(settings)\n\u001b[1;32m    177\u001b[0m \u001b[39mif\u001b[39;00m settings\u001b[39m.\u001b[39m_jupyter:\n",
      "File \u001b[0;32m/opt/miniconda3/envs/mlflow-51a201f2a8eac0601d78afdf58767b0a4aa0f41a/lib/python3.9/site-packages/wandb/sdk/wandb_init.py:304\u001b[0m, in \u001b[0;36m_WandbInit._log_setup\u001b[0;34m(self, settings)\u001b[0m\n\u001b[1;32m    302\u001b[0m \u001b[39m\"\"\"Set up logging from settings.\"\"\"\u001b[39;00m\n\u001b[0;32m--> 304\u001b[0m filesystem\u001b[39m.\u001b[39;49m_safe_makedirs(os\u001b[39m.\u001b[39;49mpath\u001b[39m.\u001b[39;49mdirname(settings\u001b[39m.\u001b[39;49mlog_user))\n\u001b[1;32m    305\u001b[0m filesystem\u001b[39m.\u001b[39m_safe_makedirs(os\u001b[39m.\u001b[39mpath\u001b[39m.\u001b[39mdirname(settings\u001b[39m.\u001b[39mlog_internal))\n",
      "File \u001b[0;32m/opt/miniconda3/envs/mlflow-51a201f2a8eac0601d78afdf58767b0a4aa0f41a/lib/python3.9/site-packages/wandb/sdk/lib/filesystem.py:8\u001b[0m, in \u001b[0;36m_safe_makedirs\u001b[0;34m(dir_name)\u001b[0m\n\u001b[1;32m      7\u001b[0m \u001b[39mtry\u001b[39;00m:\n\u001b[0;32m----> 8\u001b[0m     os\u001b[39m.\u001b[39;49mmakedirs(dir_name)\n\u001b[1;32m      9\u001b[0m \u001b[39mexcept\u001b[39;00m \u001b[39mOSError\u001b[39;00m \u001b[39mas\u001b[39;00m e:\n",
      "File \u001b[0;32m/opt/miniconda3/envs/mlflow-51a201f2a8eac0601d78afdf58767b0a4aa0f41a/lib/python3.9/os.py:215\u001b[0m, in \u001b[0;36mmakedirs\u001b[0;34m(name, mode, exist_ok)\u001b[0m\n\u001b[1;32m    214\u001b[0m \u001b[39mtry\u001b[39;00m:\n\u001b[0;32m--> 215\u001b[0m     makedirs(head, exist_ok\u001b[39m=\u001b[39;49mexist_ok)\n\u001b[1;32m    216\u001b[0m \u001b[39mexcept\u001b[39;00m \u001b[39mFileExistsError\u001b[39;00m:\n\u001b[1;32m    217\u001b[0m     \u001b[39m# Defeats race condition when another thread created the path\u001b[39;00m\n",
      "File \u001b[0;32m/opt/miniconda3/envs/mlflow-51a201f2a8eac0601d78afdf58767b0a4aa0f41a/lib/python3.9/os.py:225\u001b[0m, in \u001b[0;36mmakedirs\u001b[0;34m(name, mode, exist_ok)\u001b[0m\n\u001b[1;32m    224\u001b[0m \u001b[39mtry\u001b[39;00m:\n\u001b[0;32m--> 225\u001b[0m     mkdir(name, mode)\n\u001b[1;32m    226\u001b[0m \u001b[39mexcept\u001b[39;00m \u001b[39mOSError\u001b[39;00m:\n\u001b[1;32m    227\u001b[0m     \u001b[39m# Cannot rely on checking for EEXIST, since the operating system\u001b[39;00m\n\u001b[1;32m    228\u001b[0m     \u001b[39m# could give priority to other errors like EACCES or EROFS\u001b[39;00m\n",
      "\u001b[0;31mPermissionError\u001b[0m: [Errno 13] Permission denied: '/Users/caotri/Documents/EducationPlatform/mldeveops-nanodegree/Project2/cd0581-building-a-reproducible-model-workflow-exercises/lesson-2-data-exploration-and-preparation/exercises/exercise_4/starter/wandb/run-20220821_113012-1wu2lpe8'",
      "\nThe above exception was the direct cause of the following exception:\n",
      "\u001b[0;31mException\u001b[0m                                 Traceback (most recent call last)",
      "\u001b[1;32m/Users/caotri/Documents/EducationPlatform/mldeveops-nanodegree/Project2/cd0581-building-a-reproducible-model-workflow-exercises/lesson-2-data-exploration-and-preparation/exercises/exercise_4/starter/EDA.ipynb Cell 2\u001b[0m in \u001b[0;36m<cell line: 1>\u001b[0;34m()\u001b[0m\n\u001b[0;32m----> <a href='vscode-notebook-cell:/Users/caotri/Documents/EducationPlatform/mldeveops-nanodegree/Project2/cd0581-building-a-reproducible-model-workflow-exercises/lesson-2-data-exploration-and-preparation/exercises/exercise_4/starter/EDA.ipynb#W2sZmlsZQ%3D%3D?line=0'>1</a>\u001b[0m run \u001b[39m=\u001b[39m wandb\u001b[39m.\u001b[39;49minit(\n\u001b[1;32m      <a href='vscode-notebook-cell:/Users/caotri/Documents/EducationPlatform/mldeveops-nanodegree/Project2/cd0581-building-a-reproducible-model-workflow-exercises/lesson-2-data-exploration-and-preparation/exercises/exercise_4/starter/EDA.ipynb#W2sZmlsZQ%3D%3D?line=1'>2</a>\u001b[0m     project\u001b[39m=\u001b[39;49m\u001b[39m\"\u001b[39;49m\u001b[39mexercise_4\u001b[39;49m\u001b[39m\"\u001b[39;49m, \n\u001b[1;32m      <a href='vscode-notebook-cell:/Users/caotri/Documents/EducationPlatform/mldeveops-nanodegree/Project2/cd0581-building-a-reproducible-model-workflow-exercises/lesson-2-data-exploration-and-preparation/exercises/exercise_4/starter/EDA.ipynb#W2sZmlsZQ%3D%3D?line=2'>3</a>\u001b[0m     save_code\u001b[39m=\u001b[39;49m\u001b[39mTrue\u001b[39;49;00m\n\u001b[1;32m      <a href='vscode-notebook-cell:/Users/caotri/Documents/EducationPlatform/mldeveops-nanodegree/Project2/cd0581-building-a-reproducible-model-workflow-exercises/lesson-2-data-exploration-and-preparation/exercises/exercise_4/starter/EDA.ipynb#W2sZmlsZQ%3D%3D?line=3'>4</a>\u001b[0m )\n",
      "File \u001b[0;32m/opt/miniconda3/envs/mlflow-51a201f2a8eac0601d78afdf58767b0a4aa0f41a/lib/python3.9/site-packages/wandb/sdk/wandb_init.py:780\u001b[0m, in \u001b[0;36minit\u001b[0;34m(job_type, dir, config, project, entity, reinit, tags, group, name, notes, magic, config_exclude_keys, config_include_keys, anonymous, mode, allow_val_change, resume, force, tensorboard, sync_tensorboard, monitor_gym, save_code, id, settings)\u001b[0m\n\u001b[1;32m    778\u001b[0m         \u001b[39mif\u001b[39;00m except_exit:\n\u001b[1;32m    779\u001b[0m             os\u001b[39m.\u001b[39m_exit(\u001b[39m-\u001b[39m\u001b[39m1\u001b[39m)\n\u001b[0;32m--> 780\u001b[0m         six\u001b[39m.\u001b[39;49mraise_from(\u001b[39mException\u001b[39;49;00m(\u001b[39m\"\u001b[39;49m\u001b[39mproblem\u001b[39;49m\u001b[39m\"\u001b[39;49m), error_seen)\n\u001b[1;32m    781\u001b[0m \u001b[39mreturn\u001b[39;00m run\n",
      "File \u001b[0;32m<string>:3\u001b[0m, in \u001b[0;36mraise_from\u001b[0;34m(value, from_value)\u001b[0m\n",
      "\u001b[0;31mException\u001b[0m: problem"
     ]
    }
   ],
   "source": [
    "run = wandb.init(\n",
    "    project=\"exercise_4\",\n",
    "    save_code=True\n",
    ")\n"
   ]
  },
  {
   "cell_type": "code",
   "execution_count": null,
   "metadata": {},
   "outputs": [],
   "source": []
  },
  {
   "cell_type": "code",
   "execution_count": null,
   "metadata": {},
   "outputs": [],
   "source": [
    "artifact = run.use_artifact(\"exercise_4/genres_mod.parquet:latest\")"
   ]
  }
 ],
 "metadata": {
  "kernelspec": {
   "display_name": "Python 3.9.13 ('mlflow-51a201f2a8eac0601d78afdf58767b0a4aa0f41a')",
   "language": "python",
   "name": "python3"
  },
  "language_info": {
   "codemirror_mode": {
    "name": "ipython",
    "version": 3
   },
   "file_extension": ".py",
   "mimetype": "text/x-python",
   "name": "python",
   "nbconvert_exporter": "python",
   "pygments_lexer": "ipython3",
   "version": "3.9.13"
  },
  "orig_nbformat": 4,
  "vscode": {
   "interpreter": {
    "hash": "9c70a4d5c1334350db2047a5cd7c26e8678ca4bfbe56473852a504227ab95797"
   }
  }
 },
 "nbformat": 4,
 "nbformat_minor": 2
}
